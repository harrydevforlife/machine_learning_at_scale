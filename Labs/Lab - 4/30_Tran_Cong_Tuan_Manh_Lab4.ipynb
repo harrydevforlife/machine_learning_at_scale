{
 "cells": [
  {
   "cell_type": "markdown",
   "metadata": {
    "id": "ucVaAlCquP6V"
   },
   "source": [
    "# I. Hướng dẫn"
   ]
  },
  {
   "cell_type": "markdown",
   "metadata": {
    "id": "W4z7aSqLuP7G"
   },
   "source": [
    "## Khởi tạo Spark"
   ]
  },
  {
   "cell_type": "code",
   "execution_count": 61,
   "metadata": {},
   "outputs": [],
   "source": [
    "import findspark\n",
    "findspark.init()\n",
    "\n",
    "import pyspark\n",
    "findspark.find()\n",
    "\n",
    "from pyspark.sql import SparkSession\n",
    "from pyspark.sql.functions import count\n",
    "\n",
    "spark = (SparkSession\n",
    "         .builder\n",
    "         .appName(\"Classification\")\n",
    "         .getOrCreate())"
   ]
  },
  {
   "cell_type": "markdown",
   "metadata": {},
   "source": [
    "## Đọc và load tập dữ liệu Iris"
   ]
  },
  {
   "cell_type": "code",
   "execution_count": 62,
   "metadata": {},
   "outputs": [
    {
     "name": "stdout",
     "output_type": "stream",
     "text": [
      "+------------+-----------+------------+-----------+-----------+\n",
      "|sepal_length|sepal_width|petal_length|petal_width|      class|\n",
      "+------------+-----------+------------+-----------+-----------+\n",
      "|         5.1|        3.5|         1.4|        0.2|Iris-setosa|\n",
      "|         4.9|        3.0|         1.4|        0.2|Iris-setosa|\n",
      "|         4.7|        3.2|         1.3|        0.2|Iris-setosa|\n",
      "|         4.6|        3.1|         1.5|        0.2|Iris-setosa|\n",
      "|         5.0|        3.6|         1.4|        0.2|Iris-setosa|\n",
      "+------------+-----------+------------+-----------+-----------+\n",
      "only showing top 5 rows\n",
      "\n"
     ]
    }
   ],
   "source": [
    "irisDF = (spark.read\n",
    "          .option(\"HEADER\", True)\n",
    "          .option(\"inferSchema\", True)\n",
    "          .csv(\"./data/iris.csv\")\n",
    "         )\n",
    "\n",
    "irisDF.show(5)"
   ]
  },
  {
   "cell_type": "markdown",
   "metadata": {},
   "source": [
    "## Chuyển cột `class` (kiểu string) thành `label` (kiểu double)"
   ]
  },
  {
   "cell_type": "code",
   "execution_count": 63,
   "metadata": {},
   "outputs": [
    {
     "name": "stdout",
     "output_type": "stream",
     "text": [
      "+------------+-----------+------------+-----------+-----------+-----+\n",
      "|sepal_length|sepal_width|petal_length|petal_width|      class|label|\n",
      "+------------+-----------+------------+-----------+-----------+-----+\n",
      "|         5.1|        3.5|         1.4|        0.2|Iris-setosa|  0.0|\n",
      "|         4.9|        3.0|         1.4|        0.2|Iris-setosa|  0.0|\n",
      "|         4.7|        3.2|         1.3|        0.2|Iris-setosa|  0.0|\n",
      "|         4.6|        3.1|         1.5|        0.2|Iris-setosa|  0.0|\n",
      "|         5.0|        3.6|         1.4|        0.2|Iris-setosa|  0.0|\n",
      "+------------+-----------+------------+-----------+-----------+-----+\n",
      "only showing top 5 rows\n",
      "\n"
     ]
    }
   ],
   "source": [
    "from pyspark.ml.feature import StringIndexer\n",
    "\n",
    "class_indexer = StringIndexer(inputCol = 'class', outputCol = 'label')\n",
    "\n",
    "irisDFindexed = class_indexer.fit(irisDF).transform(irisDF)\n",
    "\n",
    "irisDFindexed.show(5)"
   ]
  },
  {
   "cell_type": "markdown",
   "metadata": {},
   "source": [
    "## Tập dữ liệu Iris\n",
    "\n",
    "`sepal_length`: chiều dài đài hoa (cm)\n",
    "\n",
    "`sepal_width`: chiều rộng đài hoa (cm)\n",
    "\n",
    "`petal_length`: chiều dài cánh hoa (cm)\n",
    "\n",
    "`petal_width`: chiều rộng cánh hoa (cm)\n",
    "\n",
    "`class/label`: loại hoa\n",
    "\n",
    "![Iris dataset](./image/iris.png)"
   ]
  },
  {
   "cell_type": "markdown",
   "metadata": {},
   "source": [
    "## Chia dữ liệu thành train/test set"
   ]
  },
  {
   "cell_type": "code",
   "execution_count": 64,
   "metadata": {},
   "outputs": [],
   "source": [
    "(trainDF, testDF) = irisDFindexed.randomSplit([.8, .2], seed = 1)"
   ]
  },
  {
   "cell_type": "markdown",
   "metadata": {},
   "source": [
    "## Xem các loại biến trong tập dữ liệu"
   ]
  },
  {
   "cell_type": "code",
   "execution_count": 65,
   "metadata": {},
   "outputs": [
    {
     "data": {
      "text/plain": [
       "[('sepal_length', 'double'),\n",
       " ('sepal_width', 'double'),\n",
       " ('petal_length', 'double'),\n",
       " ('petal_width', 'double'),\n",
       " ('class', 'string'),\n",
       " ('label', 'double')]"
      ]
     },
     "execution_count": 65,
     "metadata": {},
     "output_type": "execute_result"
    }
   ],
   "source": [
    "irisDFindexed.dtypes"
   ]
  },
  {
   "cell_type": "markdown",
   "metadata": {},
   "source": [
    "## Biến đổi train data và test data theo định dạng của Spark"
   ]
  },
  {
   "cell_type": "code",
   "execution_count": 66,
   "metadata": {},
   "outputs": [
    {
     "name": "stdout",
     "output_type": "stream",
     "text": [
      "+-----------------+-----+\n",
      "|         features|label|\n",
      "+-----------------+-----+\n",
      "|[4.3,3.0,1.1,0.1]|  0.0|\n",
      "|[4.4,2.9,1.4,0.2]|  0.0|\n",
      "|[4.4,3.0,1.3,0.2]|  0.0|\n",
      "|[4.4,3.2,1.3,0.2]|  0.0|\n",
      "|[4.6,3.1,1.5,0.2]|  0.0|\n",
      "+-----------------+-----+\n",
      "only showing top 5 rows\n",
      "\n"
     ]
    }
   ],
   "source": [
    "from pyspark.ml.feature import VectorAssembler\n",
    "\n",
    "assembler = VectorAssembler(inputCols = ['sepal_length','sepal_width','petal_length','petal_width'],\n",
    "                            outputCol = 'features')\n",
    "assembler_train = assembler.transform(trainDF)\n",
    "\n",
    "X_train = assembler_train.select('features', 'label')\n",
    "X_train.show(5)"
   ]
  },
  {
   "cell_type": "markdown",
   "metadata": {},
   "source": [
    "## Sử dụng Logistic Regression"
   ]
  },
  {
   "cell_type": "markdown",
   "metadata": {},
   "source": [
    "### 1.1 Tạo mô hình Logistic Regression\n",
    "\n",
    "Tạo một một hình Logistic Regression và huấn luyện mô hình trên `X_train` với `labelCol` là `'label'` và `featuresCol` là `'features'`"
   ]
  },
  {
   "cell_type": "code",
   "execution_count": 67,
   "metadata": {},
   "outputs": [],
   "source": [
    "from pyspark.ml.classification import LogisticRegression\n",
    "\n",
    "logit = LogisticRegression(featuresCol = \"features\", labelCol = \"label\")\n",
    "\n",
    "logitModel = logit.fit(X_train)"
   ]
  },
  {
   "cell_type": "markdown",
   "metadata": {},
   "source": [
    "### 1.2. Áp dụng mô hình trên test data\n",
    "\n",
    "Áp dụng biến đổi cho tập test tương tự như trên tập train. In ra vài dòng sau khi biến đổi để xem kết quả."
   ]
  },
  {
   "cell_type": "code",
   "execution_count": 68,
   "metadata": {},
   "outputs": [
    {
     "name": "stdout",
     "output_type": "stream",
     "text": [
      "+-----------------+-----+\n",
      "|         features|label|\n",
      "+-----------------+-----+\n",
      "|[4.5,2.3,1.3,0.3]|  0.0|\n",
      "|[4.8,3.1,1.6,0.2]|  0.0|\n",
      "|[4.8,3.4,1.6,0.2]|  0.0|\n",
      "|[4.8,3.4,1.9,0.2]|  0.0|\n",
      "|[4.9,2.5,4.5,1.7]|  2.0|\n",
      "+-----------------+-----+\n",
      "only showing top 5 rows\n",
      "\n"
     ]
    }
   ],
   "source": [
    "assembler_test = assembler.transform(testDF)\n",
    "X_test = assembler_test.select('features', 'label')\n",
    "X_test.show(5)"
   ]
  },
  {
   "cell_type": "markdown",
   "metadata": {},
   "source": [
    "Dự đoán trên test data"
   ]
  },
  {
   "cell_type": "code",
   "execution_count": 69,
   "metadata": {},
   "outputs": [
    {
     "name": "stdout",
     "output_type": "stream",
     "text": [
      "+----------+-----+\n",
      "|prediction|label|\n",
      "+----------+-----+\n",
      "|       0.0|  0.0|\n",
      "|       0.0|  0.0|\n",
      "|       0.0|  0.0|\n",
      "|       0.0|  0.0|\n",
      "|       1.0|  2.0|\n",
      "+----------+-----+\n",
      "only showing top 5 rows\n",
      "\n"
     ]
    }
   ],
   "source": [
    "predictions = logitModel.transform(X_test)\n",
    "predictions.select(\"prediction\", \"label\").show(5)"
   ]
  },
  {
   "cell_type": "markdown",
   "metadata": {},
   "source": [
    "### 1.3. Đánh giá mô hình\n",
    "\n",
    "Tính giá trị `Accuracy` của mô hình trên tập test"
   ]
  },
  {
   "cell_type": "code",
   "execution_count": 70,
   "metadata": {},
   "outputs": [
    {
     "name": "stdout",
     "output_type": "stream",
     "text": [
      "Accuracy = 0.961538\n",
      "Test Error = 0.0384615\n"
     ]
    }
   ],
   "source": [
    "from pyspark.ml.evaluation import MulticlassClassificationEvaluator\n",
    "\n",
    "evaluator = MulticlassClassificationEvaluator()\n",
    "\n",
    "accuracy = evaluator.evaluate(predictions, {evaluator.metricName: \"accuracy\"})\n",
    "print(\"Accuracy = %g\" % accuracy)\n",
    "print(\"Test Error = %g\" % (1.0 - accuracy))"
   ]
  },
  {
   "cell_type": "markdown",
   "metadata": {},
   "source": [
    "### 1.4. Tạo ML pipeline và đánh giá dùng phương pháp cross validation"
   ]
  },
  {
   "cell_type": "code",
   "execution_count": 71,
   "metadata": {},
   "outputs": [
    {
     "name": "stdout",
     "output_type": "stream",
     "text": [
      "'features=[4.5,2.3,1.3,0.3], label=2.0 -> prediction=2.0'\n",
      "'features=[4.8,3.1,1.6,0.2], label=2.0 -> prediction=2.0'\n",
      "'features=[4.8,3.4,1.6,0.2], label=2.0 -> prediction=2.0'\n",
      "'features=[4.8,3.4,1.9,0.2], label=2.0 -> prediction=2.0'\n",
      "'features=[4.9,2.5,4.5,1.7], label=1.0 -> prediction=0.0'\n",
      "Test Error = 0.0384615\n"
     ]
    }
   ],
   "source": [
    "from pyspark.ml.classification import LogisticRegression\n",
    "from pyspark.ml.feature import StringIndexer\n",
    "from pyspark.ml import Pipeline\n",
    "from pyspark.ml.tuning import CrossValidator, ParamGridBuilder\n",
    "from pyspark.ml.evaluation import MulticlassClassificationEvaluator\n",
    "\n",
    "import pprint\n",
    "\n",
    "pp = pprint.PrettyPrinter(indent = 4)\n",
    "\n",
    "# Create a LogisticRegression instance. This instance is an Estimator.\n",
    "logit = LogisticRegression(featuresCol = \"features\", labelCol = \"label\")\n",
    "\n",
    "# Define indexer\n",
    "indexer = StringIndexer(inputCol = 'class', \n",
    "                        outputCol = 'label')\n",
    "\n",
    "# Define assembler\n",
    "assembler = VectorAssembler(inputCols = ['sepal_length','sepal_width','petal_length','petal_width'],\n",
    "                            outputCol = 'features')\n",
    "\n",
    "# Configure an ML pipeline, which consists of two stages: indexer, assembler, and logit.\n",
    "pipeline = Pipeline(stages = [indexer, assembler, logit])\n",
    "\n",
    "# Specify evaluator\n",
    "evaluator = MulticlassClassificationEvaluator(\n",
    "    labelCol = \"label\", \n",
    "    predictionCol = \"prediction\",\n",
    "    metricName = \"accuracy\"\n",
    ")\n",
    "\n",
    "# Specify parameters\n",
    "paramGrid = (ParamGridBuilder()\n",
    "            .addGrid(logit.regParam , [0.01, 0.1, 1])\n",
    "            .build())\n",
    "\n",
    "# Train/test split\n",
    "(trainDF, testDF) = irisDF.randomSplit([.8, .2], seed = 1)\n",
    "\n",
    "# Setup CrossValidator \n",
    "# A CrossValidator requires an Estimator, a set of Estimator ParamMaps, and an Evaluator.\n",
    "cv = CrossValidator(estimator = logit, \n",
    "                    evaluator = evaluator, \n",
    "                    estimatorParamMaps = paramGrid, \n",
    "                    numFolds = 3, \n",
    "                    parallelism = 2, \n",
    "                    seed = 1)\n",
    "\n",
    "# Run cross-validation on training data, and choose the best set of parameters\n",
    "logitModel = pipeline.fit(trainDF)\n",
    "\n",
    "# Make predictions on test data. logitModel uses the best model found (regParam = 0.1)\n",
    "prediction = logitModel.transform(testDF)\n",
    "result = prediction.select(\"features\", \"label\", \"prediction\").collect()\n",
    "\n",
    "# Print some predictions\n",
    "for row in result[0:5]:\n",
    "    pp.pprint(\"features=%s, label=%s -> prediction=%s\" % \n",
    "              (row.features, row.label, row.prediction))\n",
    "\n",
    "accuracy = evaluator.evaluate(predictions)\n",
    "\n",
    "print(\"Test Error = %g\" % (1.0 - accuracy))"
   ]
  },
  {
   "cell_type": "markdown",
   "metadata": {},
   "source": [
    "# II. Áp dụng"
   ]
  },
  {
   "cell_type": "markdown",
   "metadata": {},
   "source": [
    "## Câu 1 - Áp dụng `LogisticRegression` với tập dữ liệu `Auto`"
   ]
  },
  {
   "cell_type": "markdown",
   "metadata": {},
   "source": [
    "Câu hỏi này sử dụng Logistic Regression trên tập dữ liệu `Auto` để dự đoán một xe cho trước có `mpg` là `high` hay `low`.\n",
    "\n",
    "**Auto Data Set Description**\n",
    "\n",
    "A data frame with 392 observations on the following 9 variables.\n",
    "\n",
    "- `mpg`: miles per gallon\n",
    "\n",
    "- `cylinders`: Number of cylinders between 4 and 8\n",
    "\n",
    "- `displacement`: Engine displacement (cu. inches)\n",
    "\n",
    "- `horsepower`: Engine horsepower\n",
    "\n",
    "- `weight`: Vehicle weight (lbs.)\n",
    "\n",
    "- `acceleration`: Time to accelerate from 0 to 60 mph (sec.)\n",
    "\n",
    "- `year`: Model year (modulo 100)\n",
    "\n",
    "- `origin`: Origin of car (1. American, 2. European, 3. Japanese)\n",
    "\n",
    "- `name`: Vehicle name"
   ]
  },
  {
   "cell_type": "markdown",
   "metadata": {},
   "source": [
    "**1.1.** Tạo một binary variable nhận giá trị 1 (`high`) với các xe có `mpg` lớn hơn median mpg, và nhận giá trị 0 (`low`) cho các xe còn lại."
   ]
  },
  {
   "cell_type": "markdown",
   "metadata": {},
   "source": [
    "- Đọc dữ liệu từ file Auto.csv"
   ]
  },
  {
   "cell_type": "code",
   "execution_count": 72,
   "metadata": {},
   "outputs": [
    {
     "name": "stdout",
     "output_type": "stream",
     "text": [
      "+----+---------+------------+----------+------+------------+----+------+--------------------+\n",
      "| mpg|cylinders|displacement|horsepower|weight|acceleration|year|origin|                name|\n",
      "+----+---------+------------+----------+------+------------+----+------+--------------------+\n",
      "|18.0|        8|       307.0|       130|  3504|        12.0|  70|     1|chevrolet chevell...|\n",
      "|15.0|        8|       350.0|       165|  3693|        11.5|  70|     1|   buick skylark 320|\n",
      "|18.0|        8|       318.0|       150|  3436|        11.0|  70|     1|  plymouth satellite|\n",
      "|16.0|        8|       304.0|       150|  3433|        12.0|  70|     1|       amc rebel sst|\n",
      "|17.0|        8|       302.0|       140|  3449|        10.5|  70|     1|         ford torino|\n",
      "+----+---------+------------+----------+------+------------+----+------+--------------------+\n",
      "only showing top 5 rows\n",
      "\n"
     ]
    }
   ],
   "source": [
    "AutoDF = (spark.read\n",
    "          .option(\"HEADER\", True)\n",
    "          .option(\"inferSchema\", True)\n",
    "          .csv(\"./data/Auto.csv\")\n",
    "         )\n",
    "\n",
    "AutoDF.show(5)"
   ]
  },
  {
   "cell_type": "markdown",
   "metadata": {},
   "source": [
    "- Tính median và tính high, low"
   ]
  },
  {
   "cell_type": "code",
   "execution_count": 73,
   "metadata": {},
   "outputs": [
    {
     "name": "stdout",
     "output_type": "stream",
     "text": [
      "+----+---------+------------+----------+------+------------+----+------+--------------------+-----+\n",
      "| mpg|cylinders|displacement|horsepower|weight|acceleration|year|origin|                name|label|\n",
      "+----+---------+------------+----------+------+------------+----+------+--------------------+-----+\n",
      "|18.0|        8|       307.0|       130|  3504|        12.0|  70|     1|chevrolet chevell...|    1|\n",
      "|15.0|        8|       350.0|       165|  3693|        11.5|  70|     1|   buick skylark 320|    0|\n",
      "|18.0|        8|       318.0|       150|  3436|        11.0|  70|     1|  plymouth satellite|    1|\n",
      "|16.0|        8|       304.0|       150|  3433|        12.0|  70|     1|       amc rebel sst|    0|\n",
      "|17.0|        8|       302.0|       140|  3449|        10.5|  70|     1|         ford torino|    0|\n",
      "+----+---------+------------+----------+------+------------+----+------+--------------------+-----+\n",
      "only showing top 5 rows\n",
      "\n"
     ]
    }
   ],
   "source": [
    "from pyspark.sql.functions import udf\n",
    "from pyspark.sql.types import IntegerType\n",
    "\n",
    "# Calculate the median of `mpg`\n",
    "median = AutoDF.approxQuantile('mpg', [0.5], 0.25)[0]\n",
    "\n",
    "# Define the function to return 0 or 1 based on median of `mpg` attribbute\n",
    "def alternate_with_med(x):\n",
    "    return 0 if x < median else 1\n",
    "\n",
    "# Call function and load into DataFrame with new column name `label`\n",
    "Alter_udf = udf(alternate_with_med, IntegerType())\n",
    "AutoDF = AutoDF.withColumn('label', Alter_udf(AutoDF['mpg']))\n",
    "\n",
    "AutoDF.show(5)"
   ]
  },
  {
   "cell_type": "markdown",
   "metadata": {},
   "source": [
    "**1.2.** Áp dụng Logistic Regression cho tập dữ liệu với các giá trị siêu tham số `regParam` khác nhau để dự đoán `mpg`. Cho biết cross-validation error ứng với các giá trị khác nhau của siêu tham số này. Nhận xét kết quả thu được. Tham khảo document về Logistic Regression của Spark ở [LogisticRegression](https://spark.apache.org/docs/latest/api/python/reference/api/pyspark.ml.classification.LogisticRegression.html#pyspark.ml.classification.LogisticRegression)."
   ]
  },
  {
   "cell_type": "markdown",
   "metadata": {},
   "source": [
    "- Tạo ML pipeline dùng phương pháp Cross Validation, ParamGrid thử các siêu tham số khác nhau."
   ]
  },
  {
   "cell_type": "code",
   "execution_count": 74,
   "metadata": {},
   "outputs": [
    {
     "name": "stdout",
     "output_type": "stream",
     "text": [
      "'features=[8.0,350.0,3664.0,11.0,73.0,1.0], label=0 -> prediction=0.0'\n",
      "'features=[8.0,302.0,3169.0,12.0,75.0,1.0], label=0 -> prediction=1.0'\n",
      "'features=[8.0,302.0,3870.0,15.0,76.0,1.0], label=0 -> prediction=0.0'\n",
      "'features=[8.0,302.0,4294.0,16.0,72.0,1.0], label=0 -> prediction=0.0'\n",
      "'features=[8.0,318.0,3755.0,14.0,76.0,1.0], label=0 -> prediction=0.0'\n",
      "Accuracy = 0.894737\n",
      "Test Error = 0.105263\n"
     ]
    }
   ],
   "source": [
    "from pyspark.ml.classification import LogisticRegression\n",
    "from pyspark.ml.feature import StringIndexer\n",
    "from pyspark.ml import Pipeline\n",
    "from pyspark.ml.tuning import CrossValidator, ParamGridBuilder\n",
    "from pyspark.ml.evaluation import MulticlassClassificationEvaluator\n",
    "\n",
    "import pprint\n",
    "\n",
    "pp = pprint.PrettyPrinter(indent = 4)\n",
    "\n",
    "# Create a LogisticRegression instance. This instance is an Estimator.\n",
    "logit = LogisticRegression(featuresCol = \"features\", labelCol = \"label\")\n",
    "\n",
    "# Define assembler\n",
    "assembler = VectorAssembler(inputCols = ['cylinders','displacement', 'weight','acceleration','year','origin'],\n",
    "                            outputCol = 'features')\n",
    "\n",
    "# Configure an ML pipeline, which consists of two stages: indexer, assembler, and logit.\n",
    "pipeline = Pipeline(stages = [ assembler, logit])\n",
    "\n",
    "# Specify evaluator\n",
    "evaluator = MulticlassClassificationEvaluator(\n",
    "    labelCol = \"label\", \n",
    "    predictionCol = \"prediction\",\n",
    "    metricName = \"accuracy\"\n",
    ")\n",
    "\n",
    "# Specify parameters\n",
    "paramGrid = (ParamGridBuilder()\n",
    "            .addGrid(logit.regParam , [0.01, 0.05, 0.1, 0.5, 1])\n",
    "            .build())\n",
    "\n",
    "# Train/test split\n",
    "(trainDF, testDF) = AutoDF.randomSplit([.8, .2], seed = 1)\n",
    "\n",
    "# Setup CrossValidator \n",
    "# A CrossValidator requires an Estimator, a set of Estimator ParamMaps, and an Evaluator.\n",
    "cv = CrossValidator(estimator = pipeline, \n",
    "                    evaluator = evaluator, \n",
    "                    estimatorParamMaps = paramGrid, \n",
    "                    numFolds = 3, \n",
    "                    parallelism = 2, \n",
    "                    seed = 1)\n",
    "\n",
    "# Run cross-validation on training data, and choose the best set of parameters\n",
    "logitModel = cv.fit(trainDF)\n",
    "\n",
    "# Make predictions on test data. logitModel uses the best model found (regParam = 0.1)\n",
    "logistic_prediction = logitModel.transform(testDF)\n",
    "result = logistic_prediction.select(\"features\", \"label\", \"prediction\").collect()\n",
    "\n",
    "# Print some predictions\n",
    "for row in result[0:5]:\n",
    "    pp.pprint(\"features=%s, label=%s -> prediction=%s\" % \n",
    "              (row.features, row.label, row.prediction))\n",
    "\n",
    "accuracy = evaluator.evaluate(logistic_prediction)\n",
    "\n",
    "print(\"Accuracy = %g\" % accuracy)\n",
    "print(\"Test Error = %g\" % (1.0 - accuracy))"
   ]
  },
  {
   "cell_type": "markdown",
   "metadata": {},
   "source": [
    "#### Nhận xét:\n",
    "Accuracy của mô hình Logistic Regression với các tham số như trên là: 0.894737, tương đương khoảng  89.4737%, một mức độ chính xác có thể xem là khá cao."
   ]
  },
  {
   "cell_type": "markdown",
   "metadata": {
    "id": "E8I0zkl9uP7o"
   },
   "source": [
    "## Câu 2 - So sánh các mô hình phân loại"
   ]
  },
  {
   "cell_type": "markdown",
   "metadata": {
    "id": "6kKDfGgFuP7p"
   },
   "source": [
    "Thực hiện việc train tất cả các mô hình `LogisticRegression`, `DecisionTreeClassifier` và `RandomForestClassifier`, `GBTClassifier`, `MultilayerPerceptronClassifier`, `LinearSVC`, `NaiveBayes` trên tập dữ liệu HeartDisease (https://archive.ics.uci.edu/ml/datasets/heart+Disease). Điều chỉnh các siêu tham số của các mô hình để chọn mô hình tốt nhất dùng cross validation. So sánh và nhận xét về kết quả của các mô hình. Để tránh lặp lại các bước xử lý giống nhau nhiều lần như ở trên bạn nên tạo pipeline các bước xử lý. Tham khảo cách tạo pipeline cho mô hình ở [đây](https://spark.apache.org/docs/latest/ml-pipeline.html). Tham khảo document về các classifier của Spark ở [classification module](https://spark.apache.org/docs/latest/api/python/reference/pyspark.ml.html#classification).\n",
    "\n",
    "Bên dưới là một số gợi ý."
   ]
  },
  {
   "cell_type": "code",
   "execution_count": 75,
   "metadata": {
    "id": "fcjO6ceEuP7p",
    "outputId": "5c27fe50-8b51-4f9f-eb18-5c9f9d945cc0"
   },
   "outputs": [
    {
     "name": "stdout",
     "output_type": "stream",
     "text": [
      "+---+---+---+------------+------+----+---+-------+-----+-----+-------+-----+---+----------+---+\n",
      "|_c0|Age|Sex|   ChestPain|RestBP|Chol|Fbs|RestECG|MaxHR|ExAng|Oldpeak|Slope| Ca|      Thal|AHD|\n",
      "+---+---+---+------------+------+----+---+-------+-----+-----+-------+-----+---+----------+---+\n",
      "|  1| 63|  1|     typical|   145| 233|  1|      2|  150|    0|    2.3|    3|  0|     fixed| No|\n",
      "|  2| 67|  1|asymptomatic|   160| 286|  0|      2|  108|    1|    1.5|    2|  3|    normal|Yes|\n",
      "|  3| 67|  1|asymptomatic|   120| 229|  0|      2|  129|    1|    2.6|    2|  2|reversable|Yes|\n",
      "|  4| 37|  1|  nonanginal|   130| 250|  0|      0|  187|    0|    3.5|    3|  0|    normal| No|\n",
      "|  5| 41|  0|  nontypical|   130| 204|  0|      2|  172|    0|    1.4|    1|  0|    normal| No|\n",
      "+---+---+---+------------+------+----+---+-------+-----+-----+-------+-----+---+----------+---+\n",
      "only showing top 5 rows\n",
      "\n"
     ]
    }
   ],
   "source": [
    "heart = (spark.read\n",
    "          .option(\"HEADER\", True)\n",
    "          .option(\"inferSchema\", True)\n",
    "          .csv(\"./data/HeartDisease.csv\")\n",
    "         )\n",
    "\n",
    "heart.show(5)"
   ]
  },
  {
   "cell_type": "code",
   "execution_count": 76,
   "metadata": {
    "id": "gjXd2ufGuP7q",
    "outputId": "71973970-8977-4233-a189-cacb1adaec78"
   },
   "outputs": [
    {
     "data": {
      "text/plain": [
       "303"
      ]
     },
     "execution_count": 76,
     "metadata": {},
     "output_type": "execute_result"
    }
   ],
   "source": [
    "heart.count()"
   ]
  },
  {
   "cell_type": "code",
   "execution_count": 77,
   "metadata": {
    "id": "y5rPpSAvuP7r",
    "outputId": "41308241-e694-4d92-fa87-f1ba964b1988"
   },
   "outputs": [
    {
     "data": {
      "text/plain": [
       "15"
      ]
     },
     "execution_count": 77,
     "metadata": {},
     "output_type": "execute_result"
    }
   ],
   "source": [
    "len(heart.columns)"
   ]
  },
  {
   "cell_type": "code",
   "execution_count": 78,
   "metadata": {
    "id": "vig7uk4QuP7s",
    "outputId": "05c11c0d-0ffb-4d0f-ba31-3f65587d82ba"
   },
   "outputs": [
    {
     "data": {
      "text/plain": [
       "[('_c0', 'int'),\n",
       " ('Age', 'int'),\n",
       " ('Sex', 'int'),\n",
       " ('ChestPain', 'string'),\n",
       " ('RestBP', 'int'),\n",
       " ('Chol', 'int'),\n",
       " ('Fbs', 'int'),\n",
       " ('RestECG', 'int'),\n",
       " ('MaxHR', 'int'),\n",
       " ('ExAng', 'int'),\n",
       " ('Oldpeak', 'double'),\n",
       " ('Slope', 'int'),\n",
       " ('Ca', 'string'),\n",
       " ('Thal', 'string'),\n",
       " ('AHD', 'string')]"
      ]
     },
     "execution_count": 78,
     "metadata": {},
     "output_type": "execute_result"
    }
   ],
   "source": [
    "heart.dtypes"
   ]
  },
  {
   "cell_type": "code",
   "execution_count": 79,
   "metadata": {},
   "outputs": [],
   "source": [
    "from pyspark.sql.functions import when\n",
    "\n",
    "# Add new colummn with Label to classification\n",
    "heart = heart.withColumn(\"label\", when(heart.AHD == \"No\", 0)\n",
    "                                 .when(heart.AHD == \"Yes\", 1))"
   ]
  },
  {
   "cell_type": "code",
   "execution_count": 80,
   "metadata": {
    "id": "UlA0RML6uP7t",
    "outputId": "76ba8c2d-73b3-4fdd-8f27-86b54e297208"
   },
   "outputs": [
    {
     "data": {
      "text/plain": [
       "DataFrame[_c0: int, Age: int, Sex: int, ChestPain: string, RestBP: int, Chol: int, Fbs: int, RestECG: int, MaxHR: int, ExAng: int, Oldpeak: double, Slope: int, Ca: int, Thal: string, AHD: string, label: int]"
      ]
     },
     "execution_count": 80,
     "metadata": {},
     "output_type": "execute_result"
    }
   ],
   "source": [
    "heart.withColumn('Ca', heart.Ca.cast('int'))"
   ]
  },
  {
   "cell_type": "markdown",
   "metadata": {},
   "source": [
    "## Build pipiline for model  \n",
    "\n",
    "Build pipeline with cross validation, paramGrid"
   ]
  },
  {
   "cell_type": "code",
   "execution_count": 81,
   "metadata": {
    "id": "oCQg2S_GuP7t",
    "outputId": "3bfe0853-198d-4c26-a5aa-b94acf69f47a"
   },
   "outputs": [],
   "source": [
    "from pyspark.ml.classification import LogisticRegression\n",
    "from pyspark.ml.feature import StringIndexer\n",
    "from pyspark.ml.feature import VectorAssembler\n",
    "from pyspark.ml import Pipeline\n",
    "from pyspark.ml.tuning import CrossValidator, ParamGridBuilder\n",
    "from pyspark.ml.evaluation import MulticlassClassificationEvaluator\n",
    "from pyspark.ml.feature import OneHotEncoder\n",
    "from pyspark.sql.functions import when\n",
    "\n",
    "import pprint\n",
    "pp = pprint.PrettyPrinter(indent = 4)\n",
    "\n",
    "catInputCols = ['ChestPain', 'RestECG', 'Slope', 'Thal']\n",
    "catOutputCols = [x + \"Index\" for x in catInputCols]\n",
    "oheCatOutputCols = [x + \"OHE\" for x in catInputCols]\n",
    "\n",
    "catIndexer = StringIndexer(inputCols = catInputCols, outputCols = catOutputCols)\n",
    "\n",
    "catOHEncoder = OneHotEncoder(inputCols = catOutputCols, \n",
    "                          outputCols = oheCatOutputCols)\n",
    "\n",
    "# Define assembler\n",
    "assembler = VectorAssembler(inputCols = ['ChestPainOHE','RestECGOHE','SlopeOHE','Age','Sex',\n",
    "                                         'RestBP','Chol','Fbs','MaxHR','ExAng','Oldpeak'],\n",
    "                            outputCol = 'features')\n",
    "\n",
    "# Train/test split\n",
    "(trainDF, testDF) = heart.randomSplit([.8, .2], seed = 1)\n",
    "\n",
    "# view the transformed data\n",
    "# transformed_heart = pipelineModel.transform(heart)\n",
    "# transformed_heart.select(catInputCols + oheCatOutputCols).show(5)\n",
    "\n",
    "# Specify evaluator\n",
    "evaluator = MulticlassClassificationEvaluator(\n",
    "    labelCol = \"label\", \n",
    "    predictionCol = \"prediction\",\n",
    "    metricName = \"accuracy\"\n",
    ")\n"
   ]
  },
  {
   "cell_type": "markdown",
   "metadata": {},
   "source": [
    "### 1 - Logistic Regression"
   ]
  },
  {
   "cell_type": "code",
   "execution_count": 82,
   "metadata": {},
   "outputs": [
    {
     "name": "stdout",
     "output_type": "stream",
     "text": [
      "Logistic Test Error = 0.338983\n"
     ]
    }
   ],
   "source": [
    "# Create a LogisticRegression instance. This instance is an Estimator.\n",
    "logit = LogisticRegression(featuresCol = \"features\", labelCol = \"label\")\n",
    "\n",
    "pipeline = Pipeline(stages = [catIndexer, catOHEncoder, assembler, logit])\n",
    "\n",
    "# Specify parameters\n",
    "paramGrid = (ParamGridBuilder()\n",
    "            .addGrid(logit.regParam , [0.01, 0.05, 0.1, 0.5, 1])\n",
    "            .build())\n",
    "\n",
    "cv = CrossValidator(estimator = pipeline, \n",
    "                    evaluator = evaluator, \n",
    "                    estimatorParamMaps = paramGrid, \n",
    "                    numFolds = 3, \n",
    "                    parallelism = 2, \n",
    "                    seed = 1234)\n",
    "\n",
    "# Run cross-validation on training data, and choose the best set of parameters\n",
    "logitModel = cv.fit(trainDF)\n",
    "\n",
    "# Make predictions on test data. logitModel uses the best model found (regParam = 0.1)\n",
    "log_prediction = logitModel.transform(testDF)\n",
    "result = prediction.select(\"features\", \"label\", \"prediction\").collect()\n",
    "\n",
    "# # Print some predictions\n",
    "# for row in result[0:5]:\n",
    "#     pp.pprint(\"features=%s, label=%s -> prediction=%s\" % \n",
    "#               (row.features, row.label, row.prediction))\n",
    "\n",
    "logit_accuracy = evaluator.evaluate(log_prediction)\n",
    "\n",
    "print(\"Logistic Test Error = %g\" % (1.0 - logit_accuracy))"
   ]
  },
  {
   "cell_type": "markdown",
   "metadata": {},
   "source": [
    "### 2 - Decision Tree Classifier\n"
   ]
  },
  {
   "cell_type": "code",
   "execution_count": 83,
   "metadata": {
    "id": "ppgh3DCeuP7u"
   },
   "outputs": [
    {
     "name": "stdout",
     "output_type": "stream",
     "text": [
      "Decision Test Error = 0.338983\n"
     ]
    }
   ],
   "source": [
    "from pyspark.ml.classification import DecisionTreeClassifier\n",
    "\n",
    "# Create a DecisionTreeClassifier instance. This instance is an Estimator.\n",
    "decision = DecisionTreeClassifier(featuresCol = \"features\", labelCol = \"label\")\n",
    "\n",
    "pipeline = Pipeline(stages = [catIndexer, catOHEncoder, assembler, decision])\n",
    "\n",
    "# Specify parameters\n",
    "paramGrid = (ParamGridBuilder()\n",
    "            .addGrid(decision.maxDepth , [2, 5, 10, 20, 30])\n",
    "            .addGrid(decision.maxBins , [10, 20, 40, 80, 100])\n",
    "            .build())\n",
    "\n",
    "cv = CrossValidator(estimator = pipeline, \n",
    "                    evaluator = evaluator, \n",
    "                    estimatorParamMaps = paramGrid, \n",
    "                    numFolds = 3, \n",
    "                    parallelism = 2, \n",
    "                    seed = 1)\n",
    "\n",
    "# Run cross-validation on training data, and choose the best set of parameters\n",
    "decisionModel = cv.fit(trainDF)\n",
    "\n",
    "# Make predictions on test data. Decisionmodel uses the best model found (maxDepth = 0.1)\n",
    "dec_prediction = decisionModel.transform(testDF)\n",
    "result = prediction.select(\"features\", \"label\", \"prediction\").collect()\n",
    "\n",
    "# # Print some predictions\n",
    "# for row in result[0:2]:\n",
    "#     pp.pprint(\"features=%s, label=%s -> prediction=%s\" % \n",
    "#               (row.features, row.label, row.prediction))\n",
    "\n",
    "decision_accuracy = evaluator.evaluate(dec_prediction)\n",
    "\n",
    "print(\"Decision Test Error = %g\" % (1.0 - decision_accuracy))"
   ]
  },
  {
   "cell_type": "markdown",
   "metadata": {},
   "source": [
    "### 3 - Random Forest Classifier"
   ]
  },
  {
   "cell_type": "code",
   "execution_count": 84,
   "metadata": {},
   "outputs": [
    {
     "name": "stdout",
     "output_type": "stream",
     "text": [
      "Random Forest Test Error = 0.372881\n"
     ]
    }
   ],
   "source": [
    "from pyspark.ml.classification import RandomForestClassifier\n",
    "\n",
    "# Create a RandomForestClassifier instance\n",
    "rforest = RandomForestClassifier(featuresCol = \"features\", labelCol = \"label\")\n",
    "\n",
    "# Create a ML pipeline\n",
    "pipeline = Pipeline(stages = [catIndexer, catOHEncoder, assembler, rforest])\n",
    "\n",
    "# Specify parameters\n",
    "paramGrid = (ParamGridBuilder()\n",
    "            .addGrid(rforest.maxDepth, [5, 10, 20, 30])\n",
    "            .addGrid(rforest.maxBins, [5, 10, 20, 30])\n",
    "            .addGrid(rforest.numTrees, [5, 10, 20, 30])\n",
    "            .build())\n",
    "\n",
    "cv = CrossValidator(estimator = pipeline, \n",
    "                    evaluator = evaluator, \n",
    "                    estimatorParamMaps = paramGrid, \n",
    "                    numFolds = 3, \n",
    "                    parallelism = 2, \n",
    "                    seed = 1)\n",
    "\n",
    "# Run cross-validation on traning data, and choose the best set of parameters\n",
    "rfModel = cv.fit(trainDF)\n",
    "\n",
    "# Make predictions on test data. RandomForest model use the best model found\n",
    "rf_prediction = rfModel.transform(testDF)\n",
    "result = prediction.select(\"features\", \"label\", \"prediction\").collect()\n",
    "\n",
    "# # Print some predictions\n",
    "# for row in result[0:2]:\n",
    "#     pp.pprint(\"features=%s, label=%s -> prediction=%s\" %\n",
    "#              (row.features, row.label, row.prediction))\n",
    "\n",
    "rf_accuracy = evaluator.evaluate(rf_prediction)\n",
    "\n",
    "print(\"Random Forest Test Error = %g\" % (1.0 - rf_accuracy))"
   ]
  },
  {
   "cell_type": "markdown",
   "metadata": {},
   "source": [
    "### 4 - Gradient-boosted tree Classifier"
   ]
  },
  {
   "cell_type": "code",
   "execution_count": 85,
   "metadata": {},
   "outputs": [
    {
     "name": "stdout",
     "output_type": "stream",
     "text": [
      "GBT Classifer Test Error = 0.355932\n"
     ]
    }
   ],
   "source": [
    "from pyspark.ml.classification import GBTClassifier\n",
    "\n",
    "# Create a Gradient-boosted tree classifer instance\n",
    "GBT = GBTClassifier(featuresCol = \"features\", labelCol = \"label\")\n",
    "\n",
    "# Create a ML pipeline\n",
    "pipeline = Pipeline(stages = [catIndexer, catOHEncoder, assembler, GBT])\n",
    "\n",
    "# Specify parameters\n",
    "paramGrid = (ParamGridBuilder()\n",
    "             .addGrid(GBT.maxDepth, [2, 5, 10])\n",
    "             .addGrid(GBT.maxBins, [10, 20, 40])\n",
    "             .addGrid(GBT.maxIter, [5, 10, 20])\n",
    "             .build())\n",
    "\n",
    "cv = CrossValidator(estimator = pipeline, \n",
    "                    evaluator = evaluator, \n",
    "                    estimatorParamMaps = paramGrid, \n",
    "                    numFolds = 3, \n",
    "                    parallelism = 2, \n",
    "                    seed = 1)\n",
    "\n",
    "# Run cross-validation on traning data, and choose the best set of parammters\n",
    "GBTclassifer = cv.fit(trainDF)\n",
    "\n",
    "# Make predctions on test data. Gradient-boosted model use the best model found\n",
    "gbt_prediction = GBTclassifer.transform(testDF)\n",
    "result = prediction.select(\"features\", \"label\", \"prediction\").collect()\n",
    "\n",
    "# # Print some predictions\n",
    "# for row in result[0:2]:\n",
    "#     pp.pprint(\"feature=%s | label=%s -> predcition=%s\" %\n",
    "#               (row.features, row.label, row.prediction))\n",
    "    \n",
    "GBT_accuracy = evaluator.evaluate(gbt_prediction)\n",
    "\n",
    "print(\"GBT Classifer Test Error = %g\" % (1.0 - GBT_accuracy))"
   ]
  },
  {
   "cell_type": "markdown",
   "metadata": {},
   "source": [
    "### 5 - MultilayerPerceptronClassifier"
   ]
  },
  {
   "cell_type": "code",
   "execution_count": 86,
   "metadata": {},
   "outputs": [],
   "source": [
    "# from pyspark.ml.classification import MultilayerPerceptronClassifier\n",
    "\n",
    "# mcpc = MultilayerPerceptronClassifier(featuresCol='features', labelCol='label', \n",
    "#                                       maxIter= 100, layers=[10, 11, 10, 3])\n",
    "\n",
    "# # add parameter grid \n",
    "# paramGrid = ParamGridBuilder().build()\n",
    "\n",
    "# # Create a  MLpipeline\n",
    "# pipeline = Pipeline(stages = [catIndexer, catOHEncoder, assembler, mcpc])\n",
    "\n",
    "# # Setup CrossValidator \n",
    "# # A CrossValidator requires an Estimator, a set of Estimator ParamMaps, and an Evaluator.\n",
    "# cv = CrossValidator(estimator = pipeline, \n",
    "#                     evaluator = evaluator, \n",
    "#                     estimatorParamMaps = paramGrid, \n",
    "#                     numFolds = 3, \n",
    "#                     parallelism = 2, \n",
    "#                     seed = 1)\n",
    "\n",
    "# # Run cross-validation on training data, and choose the best set of parameters\n",
    "# MLClassifier = cv.fit(trainDF)\n",
    "\n",
    "# # Make predictions on testing data, MultilayerPerceptron model use the best model found\n",
    "# ml_prediction = MLClassifier.transform(testDF)\n",
    "# result = ml_prediction.select(\"features\", \"label\", \"prediction\").collect()\n",
    "\n",
    "# # Print some predictions\n",
    "# for row in result[0:2]:\n",
    "#     pp.pprint(\"features=%s | label=%s -> prediction=%s\" %\n",
    "#               (row.features, row.label, row.prediction))\n",
    "    \n",
    "# MLClassifier_accuracy = evaluator.evaluate(ml_prediciton)\n",
    "\n",
    "# print(\"Multilayer Perceptron Test Error = %g\" % (1.0 - MLClassifier_accuracy))"
   ]
  },
  {
   "cell_type": "markdown",
   "metadata": {},
   "source": [
    "###  6 - NaiveBayes Classification"
   ]
  },
  {
   "cell_type": "code",
   "execution_count": 87,
   "metadata": {},
   "outputs": [
    {
     "name": "stdout",
     "output_type": "stream",
     "text": [
      "Naive Bayes Test Error = 0.305085\n"
     ]
    }
   ],
   "source": [
    "from pyspark.ml.classification import NaiveBayes\n",
    "\n",
    "nb = NaiveBayes(featuresCol = \"features\", labelCol = \"label\")\n",
    "\n",
    "# Create a pipeline \n",
    "pipeline = Pipeline(stages = [catIndexer, catOHEncoder, assembler, nb])\n",
    "\n",
    "# Specify parameters\n",
    "paramGrid = (ParamGridBuilder()\n",
    "            .addGrid(nb.smoothing, [0.0, 0.2, 0.4, 0.6, 0.8])\n",
    "            .build())\n",
    "\n",
    "# A cross-validation requires an Estimator,...\n",
    "cv = CrossValidator(estimator = pipeline,\n",
    "                    evaluator = evaluator,\n",
    "                    estimatorParamMaps = paramGrid,\n",
    "                    numFolds = 3,\n",
    "                    parallelism = 2,\n",
    "                    seed = 1)\n",
    "\n",
    "# Run predictions on training data, and choose the best of set parameters\n",
    "NaiveBayes = cv.fit(trainDF)\n",
    "\n",
    "# Make predictions testing data, Naiva Bayes model use the best model found\n",
    "nb_prediction = NaiveBayes.transform(testDF)\n",
    "result = prediction.select(\"features\", \"label\", \"prediction\")\n",
    "\n",
    "# for row in result[0:2]:\n",
    "#     pp.pprint(\"features=%s | label=%s -> prediction=%s\" %\n",
    "#               (row.features, row.label, row.prediction))\n",
    "\n",
    "nb_accuracy = evaluator.evaluate(nb_prediction)\n",
    "\n",
    "print(\"Naive Bayes Test Error = %g\" % (1.0 - nb_accuracy))"
   ]
  },
  {
   "cell_type": "markdown",
   "metadata": {},
   "source": [
    "### 7 - Linear Support Vector Machine"
   ]
  },
  {
   "cell_type": "code",
   "execution_count": 88,
   "metadata": {},
   "outputs": [
    {
     "name": "stdout",
     "output_type": "stream",
     "text": [
      "Naive Bayes Test Error = 0.305085\n"
     ]
    }
   ],
   "source": [
    "from pyspark.ml.classification import LinearSVC\n",
    "\n",
    "linearSVC = LinearSVC(featuresCol = \"features\", labelCol = \"label\")\n",
    " # Create a ML pipeline \n",
    "pipeline = Pipeline(stages = [catIndexer, catOHEncoder, assembler, linearSVC])\n",
    "\n",
    "# Specify parameters\n",
    "paramGrid = (ParamGridBuilder()\n",
    "            .addGrid(linearSVC.maxIter, [10, 20, 30, 40])\n",
    "            .addGrid(linearSVC.regParam, [0.01, 0.1, 0.5, 1 ])\n",
    "            .build())\n",
    "\n",
    "# Set cross-validation\n",
    "cv = CrossValidator(estimator = pipeline,\n",
    "                    evaluator = evaluator,\n",
    "                    estimatorParamMaps = paramGrid,\n",
    "                    numFolds = 3,\n",
    "                    parallelism = 2,\n",
    "                    seed = 1)\n",
    "\n",
    "# Run prediction on traning data,\n",
    "LinearSVC = cv.fit(trainDF)\n",
    "\n",
    "# Make Prediction on testing data\n",
    "SVC_prediction = NaiveBayes.transform(testDF)\n",
    "result = SVC_prediction.select(\"features\", \"label\", \"prediction\")\n",
    "\n",
    "# # Print some predictions\n",
    "# for row in result[0:2]:\n",
    "#     pp.pprint(\"feature=%s | label=%s -> predcition=%s\" %\n",
    "#               (row.features, row.label, row.prediction))\n",
    "\n",
    "linearSVC_accuracy = evaluator.evaluate(SVC_prediction)\n",
    "\n",
    "print(\"Naive Bayes Test Error = %g\" % (1.0 - linearSVC_accuracy))"
   ]
  },
  {
   "cell_type": "markdown",
   "metadata": {},
   "source": [
    "### So sánh kết quả của các mô hình"
   ]
  },
  {
   "cell_type": "code",
   "execution_count": 89,
   "metadata": {},
   "outputs": [
    {
     "data": {
      "image/png": "[encoded data removed]",
      "text/plain": [
       "<Figure size 432x288 with 1 Axes>"
      ]
     },
     "metadata": {
      "needs_background": "light"
     },
     "output_type": "display_data"
    }
   ],
   "source": [
    "import matplotlib.pyplot as plt\n",
    "\n",
    "x = ['Logistic', 'Decision', 'RF', 'GBT', 'NaiveB', 'LinearSVC']\n",
    "y = [logit_accuracy, decision_accuracy, rf_accuracy, GBT_accuracy, nb_accuracy, linearSVC_accuracy]\n",
    "\n",
    "# Bar chart with day against tip\n",
    "plt.bar(x, y)\n",
    "\n",
    "plt.title(\"Bar Chart\")\n",
    "\n",
    "# Setting the X and Y labels\n",
    "plt.xlabel('Models')\n",
    "plt.ylabel('Accuracy')\n",
    "\n",
    "# Adding the legends\n",
    "plt.show()\n"
   ]
  },
  {
   "cell_type": "markdown",
   "metadata": {},
   "source": [
    "#### Nhận xét: \n",
    "- Hai mô hình cuối Naive Bayes và Linear SVC cho kết quả tốt hơn các mô hình còn lại. Nhưng nhìn chung, kết quá của tất cả các mô hình chưa được tốt, phần này có liên quan đến xử lí dữ liệu."
   ]
  },
  {
   "cell_type": "markdown",
   "metadata": {
    "id": "P0xUhg-duP7u"
   },
   "source": [
    "## Câu 3 - So sánh các mô hình hồi quy"
   ]
  },
  {
   "cell_type": "markdown",
   "metadata": {
    "id": "WkuIzREduP7v"
   },
   "source": [
    "Thực hiện việc train tất cả các mô hình `LinearRegression`, `DecisionTreeRegression` và `RandomForestRegression`, `GBTRegression` trên tập một tập dữ liệu cho bài toán hồi quy (có 10-100 thuộc tính gồm cả thuộc tính phân loại và thuộc tính số và có 100-1000 đối tượng) mà bạn quan tâm ở [UCI Regression Dataset](https://archive.ics.uci.edu/ml/datasets.php?format=&task=reg&att=&area=&numAtt=10to100&numIns=100to1000&type=&sort=nameUp&view=table). Điều chỉnh các siêu tham số của các mô hình để chọn mô hình tốt nhất dùng cross validation. Để tránh lặp lại các bước xử lý giống nhau nhiều lần như ở trên bạn nên tạo pipeline các bước xử lý. Tham khảo cách tạo pipeline cho mô hình ở [đây](https://spark.apache.org/docs/latest/ml-pipeline.html). Tham khảo document về các classifier của Spark ở [regression module](https://spark.apache.org/docs/latest/api/python/reference/pyspark.ml.html#regression)."
   ]
  },
  {
   "cell_type": "code",
   "execution_count": 90,
   "metadata": {
    "id": "HKUtGbEfuP7v"
   },
   "outputs": [],
   "source": [
    "# Viết code của bạn ở đây\n"
   ]
  }
 ],
 "metadata": {
  "colab": {
   "provenance": [],
   "toc_visible": true
  },
  "kernelspec": {
   "display_name": "Python 3 (ipykernel)",
   "language": "python",
   "name": "python3"
  },
  "language_info": {
   "codemirror_mode": {
    "name": "ipython",
    "version": 3
   },
   "file_extension": ".py",
   "mimetype": "text/x-python",
   "name": "python",
   "nbconvert_exporter": "python",
   "pygments_lexer": "ipython3",
   "version": "3.7.2"
  },
  "vscode": {
   "interpreter": {
    "hash": "5109d816b82be14675a6b11f8e0f0d2e80f029176ed3710d54e125caa8520dfd"
   }
  }
 },
 "nbformat": 4,
 "nbformat_minor": 1
}
