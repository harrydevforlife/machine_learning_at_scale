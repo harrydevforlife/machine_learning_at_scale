{
 "cells": [
  {
   "cell_type": "markdown",
   "metadata": {},
   "source": [
    "# Lab 6 - Link Analysis\n",
    "\n",
    "- Your name:     Tran Cong Tuan Manh\n",
    "\n",
    "- Your student code:    19133035\n"
   ]
  },
  {
   "cell_type": "markdown",
   "metadata": {},
   "source": [
    "### Giới thiệu\n",
    "\n",
    "- Trong bài lab này bạn sẽ tìm hiểu về hai thuật toán phân tích liên kết (link analysis) là PageRank và HITS, cùng các khái niệm liên quan đến chúng. \n",
    "\n",
    "- Tài liệu tham khảo cho bài lab là [Chapter 5 (Link Analysis)](http://infolab.stanford.edu/~ullman/mmds/ch5.pdf) trong sách [Jure Leskovec, Anand Rajaraman, Jeff Ullman, Mining of Massive Datasets, 3rd Edition, Cambridge University Press, 2020.](http://mmds.org/)"
   ]
  },
  {
   "cell_type": "markdown",
   "metadata": {},
   "source": [
    "### 1. Term spam là gì?\n",
    "**Trả lời:**\n",
    "\n",
    "- Các kỹ thuật để đánh lừa các công cụ tìm kiếm tin rằng trang web nói về một số thứ mà bản thân trang web đó không có, được gọi là term spam. Khả năng hoạt động của những kẻ gửi thư rác rất dễ dàng làm cho khả năng lọc spam của các công cụ tìm kiếm ban đầu gần như vô dụng."
   ]
  },
  {
   "cell_type": "markdown",
   "metadata": {},
   "source": [
    "### 2. Google PageRank chống lại term spam dựa trên hai ý tưởng chính nào?\n",
    "\n",
    "**Trả lời:**\n",
    "\n",
    "- "
   ]
  },
  {
   "cell_type": "markdown",
   "metadata": {},
   "source": [
    "### 3. Tính Pagerank\n",
    "**PageRank** là một hàm gán một số thực cho mỗi trang trong một web graph. **PageRank** của một trang càng cao thì nó càng quan trọng. Một web graph được xem như một đồ thị có hướng, với mỗi trang là một node và mỗi cạnh từ trang $p_1$ đến $p_2$ thể hiện có một hoặc nhiều liên kết (link) từ $p_1$ đến $p_2$. Hãy trả lời các câu hỏi sau:\n",
    "\n",
    "a. **Transition matrix** $M$ của một web graph được định nghĩa như thế nào?\n",
    "\n",
    "**Trả lời:**\n",
    "\n",
    "- \n",
    "\n",
    "b. Giả sử $M$ là **transition matrix** của một Web graph, trang $j$ trong một web graph có rank $r_j$ được định nghĩa như thế nào (công thức)?\n",
    "\n",
    "**Trả lời:**\n",
    "\n",
    "- \n",
    "\n",
    "c. Mô tả thuật toán tính **PageRank** dùng phương pháp lặp?\n",
    "\n",
    "**Trả lời:**\n",
    "\n",
    "- "
   ]
  },
  {
   "cell_type": "markdown",
   "metadata": {},
   "source": [
    "### 4. Đối phó với một web graph có các bất thường\n",
    "a. Một web graph như thế nào được gọi là **strongly connected**?\n",
    "\n",
    "**Trả lời:**\n",
    "\n",
    "- \n",
    "  \n",
    "b. Một node như thế nào được gọi là **dead end**?\n",
    "\n",
    "**Trả lời:**\n",
    "\n",
    "- \n",
    "\n",
    "c. Thế nào là một **spider trap**?\n",
    "\n",
    "**Trả lời:**\n",
    "\n",
    "- \n",
    "\n",
    "d. **Taxation** là một kỹ thuật được dùng để xử lý các web graph có các bất thường như **dead end** và **spider trap**. Kỹ thuật này thay đổi cách tính PageRank đã mô tả ở trên như thế nào?\n",
    "\n",
    "**Trả lời:**\n",
    "\n",
    "- "
   ]
  },
  {
   "cell_type": "markdown",
   "metadata": {},
   "source": [
    "### 5. Hiện thực thuật toán Pagerank\n",
    "\n",
    "Cho một web graph như hình sau:\n",
    "\n",
    "![WebGraph](./image/WebGraph.JPG)\n",
    "\n",
    "Cho biết **transition matrix** của Web graph này và viết code để tính **PageRank** của mỗi trang trong web graph trên khi dùng kỹ thuật **taxation**."
   ]
  },
  {
   "cell_type": "code",
   "execution_count": null,
   "metadata": {},
   "outputs": [],
   "source": [
    "import numpy as np\n",
    "\n",
    "# Hàm tính PageRank\n",
    "def PageRank(M, beta):\n",
    "    # Viết code của bạn ở đây\n",
    "  \n",
    "    return(0)"
   ]
  },
  {
   "cell_type": "code",
   "execution_count": null,
   "metadata": {},
   "outputs": [],
   "source": [
    "# Transition matrix của Web graph trên\n",
    "# Thay đổi các giá trị của ma trận cho phù hợp cho Web graph trên \n",
    "# (giả sử node A là 1, B là 2, và C là 3)\n",
    "M = np.matrix([[0, 0, 0], \n",
    "                [0, 0, 0], \n",
    "                [0, 0, 0]])"
   ]
  },
  {
   "cell_type": "code",
   "execution_count": null,
   "metadata": {},
   "outputs": [],
   "source": [
    "beta = 0\n",
    "PageRank(M, beta)"
   ]
  },
  {
   "cell_type": "code",
   "execution_count": null,
   "metadata": {},
   "outputs": [],
   "source": [
    "beta = 0.8\n",
    "PageRank(M, beta)"
   ]
  },
  {
   "cell_type": "markdown",
   "metadata": {},
   "source": [
    "### 6. Topic-Sensitive PageRank\n",
    "a. Giả sử $S$ là một tập các trang thuộc một chủ đề (topic) nào đó. **Topic-sensitive PageRank** cho $S$ được định nghĩa như thế nào?\n",
    "\n",
    "**Trả lời:**\n",
    "\n",
    "- \n",
    "  \n",
    "b. Viết code R để tính **Topic-sensitive PageRank** cho web graph bên dưới với $\\beta = 0.8$ trong hai trường hợp, $S = \\{A\\}$ và $S = \\{A, C\\}$\n",
    "\n",
    "![WebGraph2](./image/WebGraph2.JPG)\n"
   ]
  },
  {
   "cell_type": "code",
   "execution_count": null,
   "metadata": {},
   "outputs": [],
   "source": [
    "import numpy as np\n",
    "\n",
    "# Hàm tính Topic-sensitive PageRank\n",
    "def TopicPageRank(M, S, beta):\n",
    "    # Viết code của bạn ở đây\n",
    "    \n",
    "    return(0)"
   ]
  },
  {
   "cell_type": "code",
   "execution_count": null,
   "metadata": {},
   "outputs": [],
   "source": [
    "# Transition matrix của Web graph trên\n",
    "# Thay đổi các giá trị của ma trận cho phù hợp cho Web graph trên \n",
    "# (giả sử node A là 1, B là 2, C là 3, và D là 4)\n",
    "M = np.matrix([[0, 0, 0, 0], \n",
    "                [0, 0, 0, 0], \n",
    "                [0, 0, 0, 0],\n",
    "                [0, 0, 0, 0]])\n",
    "beta = 0.8"
   ]
  },
  {
   "cell_type": "code",
   "execution_count": null,
   "metadata": {},
   "outputs": [],
   "source": [
    "S = np.array([1])\n",
    "TopicPageRank(M, S, beta)"
   ]
  },
  {
   "cell_type": "code",
   "execution_count": null,
   "metadata": {},
   "outputs": [],
   "source": [
    "S = np.array([1, 3])\n",
    "TopicPageRank(M, S, beta)"
   ]
  },
  {
   "cell_type": "markdown",
   "metadata": {},
   "source": [
    "### 7. Link spam\n",
    "a. Mô tả cấu trúc của một **spam farm**\n",
    "\n",
    "**Trả lời:**\n",
    "\n",
    "- \n",
    "  \n",
    "b. Phân tích một **spam farm**\n",
    "\n",
    "**Trả lời:**\n",
    "\n",
    "- \n",
    "\n",
    "c. Mô tả cách đối phó với **link spam** dùng **TrustRank**\n",
    "\n",
    "**Trả lời:**\n",
    "\n",
    "- \n",
    "\n",
    "d. Mô tả cách đối phó với **link spam** dùng **spam mass**\n",
    "\n",
    "**Trả lời:**\n",
    "\n",
    "- "
   ]
  },
  {
   "cell_type": "markdown",
   "metadata": {},
   "source": [
    "### 8. HITS\n",
    "Thuật toán **HITS** (**hyperlink induced topic search**) xem mức độ quan trọng của một trang trong một web graph dựa trên hai chỉ số **authority** và **hub**. Các trang có chỉ số **authority** cao nếu nó cung cấp thông tin về một chủ đề nào đó. Các trang có chỉ số **hub** cao nếu nó trỏ (liên kết) tới đến nhiều trang cung cấp thông tin về một chủ đề nào đó (tức trỏ tới nhiều trang có **authority** cao). Theo thuật toán **HITS**, mỗi trang sẽ chứa cả chỉ số **authority** và **hub** và nó sẽ được xem là **authority** hay **hub** dựa trên các giá trị này cao hay thấp.\n",
    "\n",
    "a. Gọi $h$ và $a$ lần lượt là **hubbiness** và **authority** của các trang trong một web graph. Cho biết chúng được định nghĩa như thế nào?\n",
    "\n",
    "**Trả lời:**\n",
    "\n",
    "- \n",
    "\n",
    "b. Mô tả thuật toán HITS (phương pháp lặp) để xác định **hubbiness** và **authority** của các trang trong một web graph.\n",
    "\n",
    "**Trả lời:**\n",
    "\n",
    "- \n",
    "\n",
    "c. Viết code để tính **hubbiness** và **authority** của các trang trong một web graph cho web graph bên dưới.\n",
    "\n",
    "![WebGraph3](./image/WebGraph2.JPG)"
   ]
  },
  {
   "cell_type": "code",
   "execution_count": null,
   "metadata": {},
   "outputs": [],
   "source": [
    "# Hàm tính HITS\n",
    "def HITS(A):\n",
    "  # Viết code của bạn ở đây\n",
    "  \n",
    "    return(0)"
   ]
  },
  {
   "cell_type": "code",
   "execution_count": null,
   "metadata": {},
   "outputs": [],
   "source": [
    "import numpy as np\n",
    "# Adjacency matrix của Web graph trên, \n",
    "# Thay đổi các giá trị của ma trận cho phù hợp cho Web graph trên \n",
    "# (giả sử node A là 1, B là 2, C là 3, và D là 4)\n",
    "A = np.matrix([[0, 0, 0, 0]\n",
    "                [0, 0, 0, 0], \n",
    "                [0, 0, 0, 0], \n",
    "                [0, 0, 0, 0]])"
   ]
  },
  {
   "cell_type": "code",
   "execution_count": null,
   "metadata": {},
   "outputs": [],
   "source": [
    "HITS(A)"
   ]
  },
  {
   "cell_type": "markdown",
   "metadata": {},
   "source": [
    "### 9. Thư viện NetworkX\n",
    "Phần này, bạn sẽ dùng thư viện [NetworkX](https://networkx.github.io/), một gói Python để tạo, thao tác và nghiên cứu cấu trúc, và chức năng của các mạng phức tạp.\n",
    "\n",
    "Tập dữ liệu mà chúng ta sẽ phân tích là một Web Graph tập trung xung quanh trang [stanford.edu](stanford.edu), được thu thập vào năm 2002. Các node đại diện cho các trang của Đại học Stanford (stanford.edu) và các cạnh có hướng đại diện cho các liên kết giữa chúng. Bạn có thể xem thêm thông tin về tập dữ liệu này ở [Stanford web graph](http://snap.stanford.edu/data/web-Stanford.html)."
   ]
  },
  {
   "cell_type": "code",
   "execution_count": null,
   "metadata": {},
   "outputs": [],
   "source": [
    "import networkx as nx\n",
    "\n",
    "G = nx.read_edgelist('./data/web-Stanford.txt', create_using=nx.DiGraph)"
   ]
  },
  {
   "cell_type": "code",
   "execution_count": null,
   "metadata": {},
   "outputs": [],
   "source": [
    "print(nx.info(G))"
   ]
  },
  {
   "cell_type": "markdown",
   "metadata": {},
   "source": [
    "Tính PageRank vector, sử dụng các tham số mặc định trong NetworkX. \n",
    "\n",
    "Tham khảo: \n",
    "\n",
    "- [Link Analysis](https://networkx.org/documentation/stable/reference/algorithms/link_analysis.html)\n",
    "\n",
    "- [PageRank](https://networkx.org/documentation/stable/reference/algorithms/generated/networkx.algorithms.link_analysis.pagerank_alg.pagerank.html#networkx.algorithms.link_analysis.pagerank_alg.pagerank)"
   ]
  },
  {
   "cell_type": "code",
   "execution_count": null,
   "metadata": {},
   "outputs": [],
   "source": [
    "# Viết code của bạn ở đây\n"
   ]
  },
  {
   "cell_type": "markdown",
   "metadata": {},
   "source": [
    "Tính hubs và authorities vector dùng HITS, sử dụng các tham số mặc định trong NetworkX. \n",
    "\n",
    "Tham khảo: \n",
    "\n",
    "- [Link Analysis](https://networkx.org/documentation/stable/reference/algorithms/link_analysis.html)\n",
    "\n",
    "- [HITS](https://networkx.org/documentation/stable/reference/algorithms/generated/networkx.algorithms.link_analysis.hits_alg.hits.html#networkx.algorithms.link_analysis.hits_alg.hits)"
   ]
  },
  {
   "cell_type": "code",
   "execution_count": null,
   "metadata": {},
   "outputs": [],
   "source": [
    "# Viết code của bạn ở đây\n"
   ]
  }
 ],
 "metadata": {
  "kernelspec": {
   "display_name": "Python 3 (ipykernel)",
   "language": "python",
   "name": "python3"
  },
  "language_info": {
   "codemirror_mode": {
    "name": "ipython",
    "version": 3
   },
   "file_extension": ".py",
   "mimetype": "text/x-python",
   "name": "python",
   "nbconvert_exporter": "python",
   "pygments_lexer": "ipython3",
   "version": "3.10.7"
  },
  "vscode": {
   "interpreter": {
    "hash": "ff4f85d6e04298634172ac5d8264e7e9b556b95639fe52ebb9425c4d4cba0c9c"
   }
  }
 },
 "nbformat": 4,
 "nbformat_minor": 4
}
